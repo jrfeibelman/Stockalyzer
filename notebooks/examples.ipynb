{
 "cells": [
  {
   "cell_type": "code",
   "execution_count": 1,
   "metadata": {},
   "outputs": [],
   "source": [
    "import import_ipynb\n",
    "from IPython.core.interactiveshell import InteractiveShell\n",
    "InteractiveShell.ast_node_interactivity = \"all\"\n",
    "%matplotlib inline"
   ]
  },
  {
   "cell_type": "markdown",
   "metadata": {},
   "source": [
    "```python\n",
    "print(\"hello\")\n",
    "```"
   ]
  },
  {
   "cell_type": "code",
   "execution_count": 2,
   "metadata": {},
   "outputs": [
    {
     "name": "stdout",
     "output_type": "stream",
     "text": [
      "importing Jupyter notebook from data.ipynb\n"
     ]
    },
    {
     "name": "stderr",
     "output_type": "stream",
     "text": [
      "<string>:114: SyntaxWarning: \"is\" with a literal. Did you mean \"==\"?\n"
     ]
    },
    {
     "name": "stdout",
     "output_type": "stream",
     "text": [
      "mu = 0.001762\n",
      "sigma = 0.023324\n",
      "ABBV\n",
      "              High       Low    Open   Close   Volume        5EMA        8EMA  \\\n",
      "Date                                                                            \n",
      "2020-01-02   89.57   88.5100   89.08   89.55  5162752  110.639768  115.359161   \n",
      "2020-01-03   89.39   87.9000   88.17   88.70  5989437  103.326512  109.434903   \n",
      "2020-01-06   89.62   87.9800   88.22   89.40  6786729   98.684342  104.982702   \n",
      "2020-01-07   89.54   88.2600   88.93   88.89  7257498   95.419561  101.406546   \n",
      "2020-01-08   90.06   88.8700   89.15   89.52  7697073   93.453041   98.765091   \n",
      "...            ...       ...     ...     ...      ...         ...         ...   \n",
      "2022-02-14  143.19  139.4411  141.78  143.00  9931861  142.426267  141.743688   \n",
      "2022-02-15  145.46  143.2000  143.35  144.76  9530138  143.204178  142.413979   \n",
      "2022-02-16  147.22  144.1600  144.74  145.87  8028898  144.092785  143.181984   \n",
      "2022-02-17  145.47  143.5800  144.80  144.97  5486620  144.385190  143.579321   \n",
      "2022-02-18  145.73  143.3710  144.69  144.03  7585916  144.266793  143.679472   \n",
      "\n",
      "                 13EMA       20EMA       50EMA  Signal  Flag  \n",
      "Date                                                          \n",
      "2020-01-02  119.243697  122.084969  126.466987       0     0  \n",
      "2020-01-03  114.880312  118.905448  124.985929       0     0  \n",
      "2020-01-06  111.240267  116.095406  123.590402       0     0  \n",
      "2020-01-07  108.047372  113.504415  122.229602       0     0  \n",
      "2020-01-08  105.400605  111.220185  120.946873       0     0  \n",
      "...                ...         ...         ...     ...   ...  \n",
      "2022-02-14  140.544917  139.105127  133.610776       0     0  \n",
      "2022-02-15  141.147072  139.643686  134.048000       0     0  \n",
      "2022-02-16  141.821776  140.236669  134.511608       0     0  \n",
      "2022-02-17  142.271522  140.687462  134.921741       0     0  \n",
      "2022-02-18  142.522733  141.005799  135.278928       0     0  \n",
      "\n",
      "[539 rows x 12 columns]\n",
      "ABMD\n",
      "                High     Low    Open   Close   Volume        5EMA        8EMA  \\\n",
      "Date                                                                            \n",
      "2020-01-02  173.8600  167.14  172.51  168.81   734344  152.447862  149.264034   \n",
      "2020-01-03  169.3174  165.24  166.83  166.82   746102  157.238575  153.165360   \n",
      "2020-01-06  179.4200  166.02  166.53  179.04  1506438  164.505717  158.915280   \n",
      "2020-01-07  182.4400  177.19  178.83  180.35   991684  169.787144  163.678551   \n",
      "2020-01-08  180.7300  174.29  178.38  178.69  1122415  172.754763  167.014428   \n",
      "...              ...     ...     ...     ...      ...         ...         ...   \n",
      "2022-02-14  300.0600  287.70  294.40  290.43   462318  298.072898  298.893489   \n",
      "2022-02-15  307.5200  296.18  296.18  304.70   339847  300.281932  300.183825   \n",
      "2022-02-16  328.5500  293.38  301.96  325.42  1016464  308.661288  305.791864   \n",
      "2022-02-17  321.1388  306.77  320.78  307.11   406637  308.144192  306.084783   \n",
      "2022-02-18  307.5000  294.16  306.81  298.38   331292  304.889461  304.372609   \n",
      "\n",
      "                 13EMA       20EMA       50EMA  Signal  Flag  \n",
      "Date                                                          \n",
      "2020-01-02  146.278057  143.653818  136.593872       0     0  \n",
      "2020-01-03  149.212620  145.860121  137.779210       0     0  \n",
      "2020-01-06  153.473675  149.020110  139.397280       0     0  \n",
      "2020-01-07  157.313150  152.003909  141.003269       0     0  \n",
      "2020-01-08  160.366986  154.545441  142.481180       0     0  \n",
      "...                ...         ...         ...     ...   ...  \n",
      "2022-02-14  299.867988  302.465080  313.642148       0     0  \n",
      "2022-02-15  300.558275  302.677930  313.291476       0     0  \n",
      "2022-02-16  304.109950  304.843841  313.767104       0     0  \n",
      "2022-02-17  304.538529  305.059666  313.506041       0     0  \n",
      "2022-02-18  303.658739  304.423507  312.912863       0     0  \n",
      "\n",
      "[539 rows x 12 columns]\n",
      "ABT\n",
      "                High       Low     Open   Close    Volume        5EMA  \\\n",
      "Date                                                                    \n",
      "2020-01-02   86.9600   85.8000   86.060   86.95   4398598   76.772084   \n",
      "2020-01-03   86.6700   85.5900   85.750   85.89   4747091   79.811389   \n",
      "2020-01-06   86.3600   85.2050   85.620   86.34   5631729   81.987593   \n",
      "2020-01-07   86.3000   85.5400   85.770   85.86   3410955   83.278395   \n",
      "2020-01-08   86.6600   85.9285   86.240   86.21   5694099   84.255597   \n",
      "...              ...       ...      ...     ...       ...         ...   \n",
      "2022-02-14  125.5700  121.9800  125.000  122.78   7433877  126.011679   \n",
      "2022-02-15  125.4199  123.4131  124.187  123.98   5297968  125.334453   \n",
      "2022-02-16  124.1100  121.5600  123.450  123.68   5078173  124.782969   \n",
      "2022-02-17  123.1800  120.4700  122.990  120.58   3688344  123.381979   \n",
      "2022-02-18  120.3100  114.8400  120.000  116.79  12376135  121.184653   \n",
      "\n",
      "                  8EMA       13EMA       20EMA       50EMA  Signal  Flag  \n",
      "Date                                                                      \n",
      "2020-01-02   75.424318   74.972897   75.386899   77.089261       0     0  \n",
      "2020-01-03   77.750025   76.532483   76.387195   77.434388       0     0  \n",
      "2020-01-06   79.658908   77.933557   77.335081   77.783628       0     0  \n",
      "2020-01-07   81.036929   79.065906   78.146978   78.100349       1     0  \n",
      "2020-01-08   82.186500   80.086491   78.914885   78.418374       0     0  \n",
      "...                ...         ...         ...         ...     ...   ...  \n",
      "2022-02-14  126.655139  127.106493  127.756806  129.160843       0     0  \n",
      "2022-02-15  126.060664  126.659851  127.397110  128.957672       0     0  \n",
      "2022-02-16  125.531627  126.234158  127.043100  128.750705       0     0  \n",
      "2022-02-17  124.431266  125.426421  126.427566  128.430285       0     0  \n",
      "2022-02-18  122.733207  124.192647  125.509703  127.973803       0     0  \n",
      "\n",
      "[539 rows x 12 columns]\n",
      "MMM\n",
      "              High       Low    Open   Close   Volume        5EMA        8EMA  \\\n",
      "Date                                                                            \n",
      "2020-01-02  180.01  177.1356  177.68  180.00  3448335  180.000000  180.000000   \n",
      "2020-01-03  178.66  175.6300  177.02  178.45  2467310  179.483333  179.655556   \n",
      "2020-01-06  178.71  176.3500  177.15  178.62  1997981  179.195556  179.425432   \n",
      "2020-01-07  178.51  176.8200  178.28  177.90  2176615  178.763704  179.086447   \n",
      "2020-01-08  181.50  177.6500  178.00  180.63  2758339  179.385802  179.429459   \n",
      "...            ...       ...     ...     ...      ...         ...         ...   \n",
      "2022-02-14  159.59  155.3600  159.35  158.01  4634377  160.161481  161.461816   \n",
      "2022-02-15  159.08  156.2500  158.72  157.34  3336453  159.220988  160.545857   \n",
      "2022-02-16  158.00  154.1100  157.00  155.63  4470039  158.023992  159.453444   \n",
      "2022-02-17  151.47  148.4786  150.85  148.64  6207686  154.895994  157.050457   \n",
      "2022-02-18  149.71  147.2400  148.20  147.62  5018786  152.470663  154.954800   \n",
      "\n",
      "                 13EMA       20EMA       50EMA  Signal  Flag  \n",
      "Date                                                          \n",
      "2020-01-02  180.000000  180.000000  180.000000       0     0  \n",
      "2020-01-03  179.778571  179.852381  179.939216       0     0  \n",
      "2020-01-06  179.613061  179.735011  179.887482       0     0  \n",
      "2020-01-07  179.368338  179.560248  179.809541       0     0  \n",
      "2020-01-08  179.548576  179.662129  179.841716       0     0  \n",
      "...                ...         ...         ...     ...   ...  \n",
      "2022-02-14  163.550824  165.956759  171.433428       0     0  \n",
      "2022-02-15  162.663564  165.136115  170.880744       0     0  \n",
      "2022-02-16  161.658769  164.230771  170.282676       0     0  \n",
      "2022-02-17  159.798945  162.745935  169.433944       0     0  \n",
      "2022-02-18  158.059096  161.305370  168.578495       0     0  \n",
      "\n",
      "[539 rows x 12 columns]\n",
      "AOS\n",
      "              High     Low   Open  Close   Volume        5EMA        8EMA  \\\n",
      "Date                                                                        \n",
      "2020-01-02  47.980  47.205  47.91  47.77  1034018  117.570442  131.135955   \n",
      "2020-01-03  47.500  46.750  47.16  47.35   883209   94.163628  112.516854   \n",
      "2020-01-06  47.670  46.760  47.13  47.65  1088383   78.659085   98.101998   \n",
      "2020-01-07  47.740  47.140  47.40  47.33   884197   68.216057   86.819332   \n",
      "2020-01-08  47.810  47.185  47.42  47.26  1119134   61.230705   78.028369   \n",
      "...            ...     ...    ...    ...      ...         ...         ...   \n",
      "2022-02-14  72.305  70.725  71.17  71.23   945579   72.344572   73.044204   \n",
      "2022-02-15  73.220  71.970  72.14  72.46   952398   72.383048   72.914381   \n",
      "2022-02-16  72.855  71.890  72.18  72.32   651847   72.362032   72.782296   \n",
      "2022-02-17  72.385  70.870  71.86  71.05   997046   71.924688   72.397341   \n",
      "2022-02-18  71.845  70.900  70.90  71.20   593278   71.683125   72.131266   \n",
      "\n",
      "                 13EMA       20EMA       50EMA  Signal  Flag  \n",
      "Date                                                          \n",
      "2020-01-02  142.303511  150.492478  163.840907       0     0  \n",
      "2020-01-03  128.738723  140.669385  159.272636       0     0  \n",
      "2020-01-06  117.154620  131.810396  154.895278       0     0  \n",
      "2020-01-07  107.179674  123.764644  150.677032       0     0  \n",
      "2020-01-08   98.619721  116.478487  146.621462       0     0  \n",
      "...                ...         ...         ...     ...   ...  \n",
      "2022-02-14   74.097831   75.388149   77.546560       0     0  \n",
      "2022-02-15   73.863855   75.109278   77.347087       0     0  \n",
      "2022-02-16   73.643304   74.843632   77.149946       0     0  \n",
      "2022-02-17   73.272832   74.482334   76.910733       0     0  \n",
      "2022-02-18   72.976713   74.169731   76.686782       0     0  \n",
      "\n",
      "[539 rows x 12 columns]\n"
     ]
    }
   ],
   "source": [
    "from data import *\n",
    "from datetime import datetime, date, timedelta"
   ]
  },
  {
   "cell_type": "code",
   "execution_count": 3,
   "metadata": {},
   "outputs": [
    {
     "name": "stdout",
     "output_type": "stream",
     "text": [
      "importing Jupyter notebook from model.ipynb\n"
     ]
    },
    {
     "name": "stderr",
     "output_type": "stream",
     "text": [
      "<string>:9: SettingWithCopyWarning: \n",
      "A value is trying to be set on a copy of a slice from a DataFrame.\n",
      "Try using .loc[row_indexer,col_indexer] = value instead\n",
      "\n",
      "See the caveats in the documentation: https://pandas.pydata.org/pandas-docs/stable/user_guide/indexing.html#returning-a-view-versus-a-copy\n"
     ]
    },
    {
     "ename": "TypeError",
     "evalue": "kwarg \"addplot\" validator returned False for value: \"None\"\n    'Validator'   : lambda value: isinstance(value,dict) or (isinstance(value,list) and all([isinstance(d,dict) for d in value])) },",
     "output_type": "error",
     "traceback": [
      "\u001b[0;31m---------------------------------------------------------------------------\u001b[0m",
      "\u001b[0;31mTypeError\u001b[0m                                 Traceback (most recent call last)",
      "\u001b[0;32m<ipython-input-3-2fab734860cd>\u001b[0m in \u001b[0;36m<module>\u001b[0;34m\u001b[0m\n\u001b[0;32m----> 1\u001b[0;31m \u001b[0;32mfrom\u001b[0m \u001b[0mmodel\u001b[0m \u001b[0;32mimport\u001b[0m \u001b[0mStockFetcher\u001b[0m\u001b[0;34m\u001b[0m\u001b[0;34m\u001b[0m\u001b[0m\n\u001b[0m",
      "\u001b[0;32m~/.pyenv/versions/3.9.1/lib/python3.9/importlib/_bootstrap.py\u001b[0m in \u001b[0;36m_find_and_load\u001b[0;34m(name, import_)\u001b[0m\n",
      "\u001b[0;32m~/.pyenv/versions/3.9.1/lib/python3.9/importlib/_bootstrap.py\u001b[0m in \u001b[0;36m_find_and_load_unlocked\u001b[0;34m(name, import_)\u001b[0m\n",
      "\u001b[0;32m~/.pyenv/versions/3.9.1/lib/python3.9/importlib/_bootstrap.py\u001b[0m in \u001b[0;36m_load_unlocked\u001b[0;34m(spec)\u001b[0m\n",
      "\u001b[0;32m~/.pyenv/versions/3.9.1/lib/python3.9/importlib/_bootstrap.py\u001b[0m in \u001b[0;36m_load_backward_compatible\u001b[0;34m(spec)\u001b[0m\n",
      "\u001b[0;32m~/.pyenv/versions/3.9.1/envs/stockalyzer/lib/python3.9/site-packages/import_ipynb.py\u001b[0m in \u001b[0;36mload_module\u001b[0;34m(self, fullname)\u001b[0m\n\u001b[1;32m     59\u001b[0m                 \u001b[0mcode\u001b[0m \u001b[0;34m=\u001b[0m \u001b[0mself\u001b[0m\u001b[0;34m.\u001b[0m\u001b[0mshell\u001b[0m\u001b[0;34m.\u001b[0m\u001b[0minput_transformer_manager\u001b[0m\u001b[0;34m.\u001b[0m\u001b[0mtransform_cell\u001b[0m\u001b[0;34m(\u001b[0m\u001b[0mcell\u001b[0m\u001b[0;34m.\u001b[0m\u001b[0msource\u001b[0m\u001b[0;34m)\u001b[0m\u001b[0;34m\u001b[0m\u001b[0;34m\u001b[0m\u001b[0m\n\u001b[1;32m     60\u001b[0m                 \u001b[0;31m# run the code in themodule\u001b[0m\u001b[0;34m\u001b[0m\u001b[0;34m\u001b[0m\u001b[0;34m\u001b[0m\u001b[0m\n\u001b[0;32m---> 61\u001b[0;31m                 \u001b[0mexec\u001b[0m\u001b[0;34m(\u001b[0m\u001b[0mcode\u001b[0m\u001b[0;34m,\u001b[0m \u001b[0mmod\u001b[0m\u001b[0;34m.\u001b[0m\u001b[0m__dict__\u001b[0m\u001b[0;34m)\u001b[0m\u001b[0;34m\u001b[0m\u001b[0;34m\u001b[0m\u001b[0m\n\u001b[0m\u001b[1;32m     62\u001b[0m         \u001b[0;32mfinally\u001b[0m\u001b[0;34m:\u001b[0m\u001b[0;34m\u001b[0m\u001b[0;34m\u001b[0m\u001b[0m\n\u001b[1;32m     63\u001b[0m             \u001b[0mself\u001b[0m\u001b[0;34m.\u001b[0m\u001b[0mshell\u001b[0m\u001b[0;34m.\u001b[0m\u001b[0muser_ns\u001b[0m \u001b[0;34m=\u001b[0m \u001b[0msave_user_ns\u001b[0m\u001b[0;34m\u001b[0m\u001b[0;34m\u001b[0m\u001b[0m\n",
      "\u001b[0;32m~/Desktop/stockalyzer/stockalyzer/scripts/notebooks/model.ipynb\u001b[0m in \u001b[0;36m<module>\u001b[0;34m\u001b[0m\n",
      "\u001b[0;32m~/Desktop/stockalyzer/stockalyzer/scripts/notebooks/model.ipynb\u001b[0m in \u001b[0;36mplot_close_price\u001b[0;34m(self, mav, support_resistance)\u001b[0m\n",
      "\u001b[0;32m~/Desktop/stockalyzer/stockalyzer/scripts/notebooks/model.ipynb\u001b[0m in \u001b[0;36m_plot\u001b[0;34m(self, data, type_name, desc, apds, mav, hlines, add_plots)\u001b[0m\n",
      "\u001b[0;32m~/.pyenv/versions/3.9.1/envs/stockalyzer/lib/python3.9/site-packages/mplfinance/plotting.py\u001b[0m in \u001b[0;36mplot\u001b[0;34m(data, **kwargs)\u001b[0m\n\u001b[1;32m    289\u001b[0m     \"\"\"\n\u001b[1;32m    290\u001b[0m \u001b[0;34m\u001b[0m\u001b[0m\n\u001b[0;32m--> 291\u001b[0;31m     \u001b[0mconfig\u001b[0m \u001b[0;34m=\u001b[0m \u001b[0m_process_kwargs\u001b[0m\u001b[0;34m(\u001b[0m\u001b[0mkwargs\u001b[0m\u001b[0;34m,\u001b[0m \u001b[0m_valid_plot_kwargs\u001b[0m\u001b[0;34m(\u001b[0m\u001b[0;34m)\u001b[0m\u001b[0;34m)\u001b[0m\u001b[0;34m\u001b[0m\u001b[0;34m\u001b[0m\u001b[0m\n\u001b[0m\u001b[1;32m    292\u001b[0m \u001b[0;34m\u001b[0m\u001b[0m\n\u001b[1;32m    293\u001b[0m     \u001b[0;31m# translate alias types:\u001b[0m\u001b[0;34m\u001b[0m\u001b[0;34m\u001b[0m\u001b[0;34m\u001b[0m\u001b[0m\n",
      "\u001b[0;32m~/.pyenv/versions/3.9.1/envs/stockalyzer/lib/python3.9/site-packages/mplfinance/_arg_validators.py\u001b[0m in \u001b[0;36m_process_kwargs\u001b[0;34m(kwargs, vkwargs)\u001b[0m\n\u001b[1;32m    285\u001b[0m                 \u001b[0;32mimport\u001b[0m \u001b[0minspect\u001b[0m\u001b[0;34m\u001b[0m\u001b[0;34m\u001b[0m\u001b[0m\n\u001b[1;32m    286\u001b[0m                 \u001b[0mv\u001b[0m \u001b[0;34m=\u001b[0m \u001b[0minspect\u001b[0m\u001b[0;34m.\u001b[0m\u001b[0mgetsource\u001b[0m\u001b[0;34m(\u001b[0m\u001b[0mvkwargs\u001b[0m\u001b[0;34m[\u001b[0m\u001b[0mkey\u001b[0m\u001b[0;34m]\u001b[0m\u001b[0;34m[\u001b[0m\u001b[0;34m'Validator'\u001b[0m\u001b[0;34m]\u001b[0m\u001b[0;34m)\u001b[0m\u001b[0;34m.\u001b[0m\u001b[0mstrip\u001b[0m\u001b[0;34m(\u001b[0m\u001b[0;34m)\u001b[0m\u001b[0;34m\u001b[0m\u001b[0;34m\u001b[0m\u001b[0m\n\u001b[0;32m--> 287\u001b[0;31m                 \u001b[0;32mraise\u001b[0m \u001b[0mTypeError\u001b[0m\u001b[0;34m(\u001b[0m\u001b[0;34m'kwarg \"'\u001b[0m\u001b[0;34m+\u001b[0m\u001b[0mkey\u001b[0m\u001b[0;34m+\u001b[0m\u001b[0;34m'\" validator returned False for value: \"'\u001b[0m\u001b[0;34m+\u001b[0m\u001b[0mstr\u001b[0m\u001b[0;34m(\u001b[0m\u001b[0mvalue\u001b[0m\u001b[0;34m)\u001b[0m\u001b[0;34m+\u001b[0m\u001b[0;34m'\"\\n    '\u001b[0m\u001b[0;34m+\u001b[0m\u001b[0mv\u001b[0m\u001b[0;34m)\u001b[0m\u001b[0;34m\u001b[0m\u001b[0;34m\u001b[0m\u001b[0m\n\u001b[0m\u001b[1;32m    288\u001b[0m \u001b[0;34m\u001b[0m\u001b[0m\n\u001b[1;32m    289\u001b[0m        \u001b[0;31m# ---------------------------------------------------------------\u001b[0m\u001b[0;34m\u001b[0m\u001b[0;34m\u001b[0m\u001b[0;34m\u001b[0m\u001b[0m\n",
      "\u001b[0;31mTypeError\u001b[0m: kwarg \"addplot\" validator returned False for value: \"None\"\n    'Validator'   : lambda value: isinstance(value,dict) or (isinstance(value,list) and all([isinstance(d,dict) for d in value])) },"
     ]
    }
   ],
   "source": [
    "from model import StockFetcher"
   ]
  },
  {
   "cell_type": "markdown",
   "metadata": {},
   "source": [
    "# Basic Usage\n",
    "-----------------------\n",
    "\n",
    "```python\n",
    "print(\"hello world\")\n",
    "```\n",
    "\n",
    "## Data Fetching With One Stock"
   ]
  },
  {
   "cell_type": "code",
   "execution_count": null,
   "metadata": {},
   "outputs": [],
   "source": [
    "td_fetcher = TDDataFetcher(['AAPL'])\n",
    "td_fetcher.get_daily_price_history(datetime(2019, 6, 1))\n",
    "\n",
    "td_fetcher.get_quotes()\n",
    "td_fetcher.get_fundamentals()\n",
    "td_fetcher.get_option_chain()"
   ]
  },
  {
   "cell_type": "markdown",
   "metadata": {},
   "source": [
    "### Graphing"
   ]
  },
  {
   "cell_type": "code",
   "execution_count": null,
   "metadata": {},
   "outputs": [],
   "source": [
    "stock_fetcher = StockFetcher(TDDataFetcher(['AAPL'])).get_historic_daily_quotes(datetime(2019, 6, 1))\n",
    "aapl = stock_fetcher.assets[0]\n",
    "aapl.data\n",
    "aapl.plot_close_price(support_resistance=True)"
   ]
  },
  {
   "cell_type": "markdown",
   "metadata": {},
   "source": [
    "## Data Fetching With Multiple Stocks"
   ]
  },
  {
   "cell_type": "markdown",
   "metadata": {},
   "source": []
  },
  {
   "cell_type": "code",
   "execution_count": null,
   "metadata": {},
   "outputs": [],
   "source": []
  }
 ],
 "metadata": {
  "kernelspec": {
   "display_name": "Python 3",
   "language": "python",
   "name": "python3"
  },
  "language_info": {
   "codemirror_mode": {
    "name": "ipython",
    "version": 3
   },
   "file_extension": ".py",
   "mimetype": "text/x-python",
   "name": "python",
   "nbconvert_exporter": "python",
   "pygments_lexer": "ipython3",
   "version": "3.9.1"
  }
 },
 "nbformat": 4,
 "nbformat_minor": 4
}
