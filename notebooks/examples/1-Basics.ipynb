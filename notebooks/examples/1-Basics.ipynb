{
 "cells": [
  {
   "cell_type": "code",
   "execution_count": 1,
   "metadata": {},
   "outputs": [],
   "source": [
    "# This allows multiple outputs from a single jupyter notebook cell:\n",
    "import sys\n",
    "import pandas as pd\n",
    "import os\n",
    "from datetime import datetime\n",
    "from IPython.core.interactiveshell import InteractiveShell\n",
    "InteractiveShell.ast_node_interactivity = \"all\"\n",
    "%matplotlib inline"
   ]
  },
  {
   "cell_type": "code",
   "execution_count": 2,
   "metadata": {},
   "outputs": [],
   "source": [
    "sys.path.append(os.path.dirname(os.getcwd())) # so we can import stockalyzer\n",
    "\n",
    "import stockalyzer as st\n",
    "from stockalyzer.data.data_model import TDDataFetcher\n",
    "from stockalyzer.data.data_manager import StockDataManager\n",
    "# nb_dir = os.path.split(os.getcwd())[0] + \"/src/stockalyzer\"\n",
    "# if nb_dir not in sys.path:\n",
    "#     sys.path.append(nb_dir)\n",
    "# print(sys.path)"
   ]
  },
  {
   "cell_type": "code",
   "execution_count": 3,
   "metadata": {},
   "outputs": [
    {
     "name": "stdout",
     "output_type": "stream",
     "text": [
      "<class 'datetime.datetime'>\n"
     ]
    }
   ],
   "source": [
    "tickers = [\"AMZN\", \"TSLA\", \"GOOG\"]\n",
    "sm = StockDataManager(TDDataFetcher(tickers), datetime(2019, 6, 1))\n",
    "# output_files = sm.export_csv()\n",
    "# cerebro, strats = sm.run_strategy(EMACrossoverStrategy, [20,50], plot=True)\n",
    "\n"
   ]
  },
  {
   "cell_type": "code",
   "execution_count": 6,
   "metadata": {},
   "outputs": [
    {
     "data": {
      "text/html": [
       "<div>\n",
       "<style scoped>\n",
       "    .dataframe tbody tr th:only-of-type {\n",
       "        vertical-align: middle;\n",
       "    }\n",
       "\n",
       "    .dataframe tbody tr th {\n",
       "        vertical-align: top;\n",
       "    }\n",
       "\n",
       "    .dataframe thead th {\n",
       "        text-align: right;\n",
       "    }\n",
       "</style>\n",
       "<table border=\"1\" class=\"dataframe\">\n",
       "  <thead>\n",
       "    <tr style=\"text-align: right;\">\n",
       "      <th></th>\n",
       "      <th></th>\n",
       "      <th>high</th>\n",
       "      <th>low</th>\n",
       "      <th>open</th>\n",
       "      <th>close</th>\n",
       "      <th>volume</th>\n",
       "    </tr>\n",
       "    <tr>\n",
       "      <th>ticker</th>\n",
       "      <th>date</th>\n",
       "      <th></th>\n",
       "      <th></th>\n",
       "      <th></th>\n",
       "      <th></th>\n",
       "      <th></th>\n",
       "    </tr>\n",
       "  </thead>\n",
       "  <tbody>\n",
       "    <tr>\n",
       "      <th rowspan=\"5\" valign=\"top\">AMZN</th>\n",
       "      <th>2019-06-03 05:00:00</th>\n",
       "      <td>1766.2900</td>\n",
       "      <td>1672.0000</td>\n",
       "      <td>1760.01</td>\n",
       "      <td>1692.69</td>\n",
       "      <td>9098708</td>\n",
       "    </tr>\n",
       "    <tr>\n",
       "      <th>2019-06-04 05:00:00</th>\n",
       "      <td>1730.8200</td>\n",
       "      <td>1680.8900</td>\n",
       "      <td>1699.24</td>\n",
       "      <td>1729.56</td>\n",
       "      <td>5679121</td>\n",
       "    </tr>\n",
       "    <tr>\n",
       "      <th>2019-06-05 05:00:00</th>\n",
       "      <td>1752.0000</td>\n",
       "      <td>1715.2514</td>\n",
       "      <td>1749.60</td>\n",
       "      <td>1738.50</td>\n",
       "      <td>4239782</td>\n",
       "    </tr>\n",
       "    <tr>\n",
       "      <th>2019-06-06 05:00:00</th>\n",
       "      <td>1760.0000</td>\n",
       "      <td>1726.1300</td>\n",
       "      <td>1737.71</td>\n",
       "      <td>1754.36</td>\n",
       "      <td>3689272</td>\n",
       "    </tr>\n",
       "    <tr>\n",
       "      <th>2019-06-07 05:00:00</th>\n",
       "      <td>1806.2538</td>\n",
       "      <td>1759.4900</td>\n",
       "      <td>1763.70</td>\n",
       "      <td>1804.03</td>\n",
       "      <td>4808246</td>\n",
       "    </tr>\n",
       "    <tr>\n",
       "      <th>...</th>\n",
       "      <th>...</th>\n",
       "      <td>...</td>\n",
       "      <td>...</td>\n",
       "      <td>...</td>\n",
       "      <td>...</td>\n",
       "      <td>...</td>\n",
       "    </tr>\n",
       "    <tr>\n",
       "      <th rowspan=\"5\" valign=\"top\">GOOG</th>\n",
       "      <th>2021-03-22 05:00:00</th>\n",
       "      <td>2057.9900</td>\n",
       "      <td>2026.0700</td>\n",
       "      <td>2041.84</td>\n",
       "      <td>2038.59</td>\n",
       "      <td>1954816</td>\n",
       "    </tr>\n",
       "    <tr>\n",
       "      <th>2021-03-23 05:00:00</th>\n",
       "      <td>2072.3025</td>\n",
       "      <td>2039.2200</td>\n",
       "      <td>2051.70</td>\n",
       "      <td>2052.96</td>\n",
       "      <td>1366997</td>\n",
       "    </tr>\n",
       "    <tr>\n",
       "      <th>2021-03-24 05:00:00</th>\n",
       "      <td>2078.2100</td>\n",
       "      <td>2041.5550</td>\n",
       "      <td>2065.37</td>\n",
       "      <td>2045.06</td>\n",
       "      <td>1154029</td>\n",
       "    </tr>\n",
       "    <tr>\n",
       "      <th>2021-03-25 05:00:00</th>\n",
       "      <td>2058.8700</td>\n",
       "      <td>2010.7300</td>\n",
       "      <td>2044.81</td>\n",
       "      <td>2044.36</td>\n",
       "      <td>1418907</td>\n",
       "    </tr>\n",
       "    <tr>\n",
       "      <th>2021-03-26 05:00:00</th>\n",
       "      <td>2050.9900</td>\n",
       "      <td>2014.0201</td>\n",
       "      <td>2038.86</td>\n",
       "      <td>2035.55</td>\n",
       "      <td>1493800</td>\n",
       "    </tr>\n",
       "  </tbody>\n",
       "</table>\n",
       "<p>1377 rows × 5 columns</p>\n",
       "</div>"
      ],
      "text/plain": [
       "                                 high        low     open    close   volume\n",
       "ticker date                                                                \n",
       "AMZN   2019-06-03 05:00:00  1766.2900  1672.0000  1760.01  1692.69  9098708\n",
       "       2019-06-04 05:00:00  1730.8200  1680.8900  1699.24  1729.56  5679121\n",
       "       2019-06-05 05:00:00  1752.0000  1715.2514  1749.60  1738.50  4239782\n",
       "       2019-06-06 05:00:00  1760.0000  1726.1300  1737.71  1754.36  3689272\n",
       "       2019-06-07 05:00:00  1806.2538  1759.4900  1763.70  1804.03  4808246\n",
       "...                               ...        ...      ...      ...      ...\n",
       "GOOG   2021-03-22 05:00:00  2057.9900  2026.0700  2041.84  2038.59  1954816\n",
       "       2021-03-23 05:00:00  2072.3025  2039.2200  2051.70  2052.96  1366997\n",
       "       2021-03-24 05:00:00  2078.2100  2041.5550  2065.37  2045.06  1154029\n",
       "       2021-03-25 05:00:00  2058.8700  2010.7300  2044.81  2044.36  1418907\n",
       "       2021-03-26 05:00:00  2050.9900  2014.0201  2038.86  2035.55  1493800\n",
       "\n",
       "[1377 rows x 5 columns]"
      ]
     },
     "execution_count": 6,
     "metadata": {},
     "output_type": "execute_result"
    }
   ],
   "source": [
    "d = sm.start_date\n",
    "sm._data"
   ]
  },
  {
   "cell_type": "code",
   "execution_count": 11,
   "metadata": {},
   "outputs": [
    {
     "data": {
      "text/plain": [
       "1616957880.248058"
      ]
     },
     "execution_count": 11,
     "metadata": {},
     "output_type": "execute_result"
    }
   ],
   "source": [
    "from datetime import datetime, date\n",
    "datetime.today().timestamp()"
   ]
  },
  {
   "cell_type": "code",
   "execution_count": null,
   "metadata": {},
   "outputs": [],
   "source": [
    "int(sm.start_date.strftime('%s'))*1000"
   ]
  },
  {
   "cell_type": "code",
   "execution_count": null,
   "metadata": {},
   "outputs": [],
   "source": [
    "d = sm.start_date"
   ]
  },
  {
   "cell_type": "code",
   "execution_count": null,
   "metadata": {},
   "outputs": [],
   "source": [
    "d.timestamp()"
   ]
  },
  {
   "cell_type": "code",
   "execution_count": null,
   "metadata": {},
   "outputs": [],
   "source": [
    "d.strftime('%s')"
   ]
  },
  {
   "cell_type": "code",
   "execution_count": null,
   "metadata": {},
   "outputs": [],
   "source": [
    "type(sm.start_date)"
   ]
  },
  {
   "cell_type": "code",
   "execution_count": null,
   "metadata": {},
   "outputs": [],
   "source": [
    "datetime.today()"
   ]
  },
  {
   "cell_type": "code",
   "execution_count": 7,
   "metadata": {},
   "outputs": [
    {
     "data": {
      "text/plain": [
       "1559556000.0"
      ]
     },
     "execution_count": 7,
     "metadata": {},
     "output_type": "execute_result"
    }
   ],
   "source": [
    "d.timestamp()"
   ]
  },
  {
   "cell_type": "code",
   "execution_count": null,
   "metadata": {},
   "outputs": [],
   "source": []
  }
 ],
 "metadata": {
  "kernelspec": {
   "display_name": "Python 3",
   "language": "python",
   "name": "python3"
  },
  "language_info": {
   "codemirror_mode": {
    "name": "ipython",
    "version": 3
   },
   "file_extension": ".py",
   "mimetype": "text/x-python",
   "name": "python",
   "nbconvert_exporter": "python",
   "pygments_lexer": "ipython3",
   "version": "3.9.1"
  }
 },
 "nbformat": 4,
 "nbformat_minor": 2
}
