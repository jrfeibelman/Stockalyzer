{
 "cells": [
  {
   "cell_type": "markdown",
   "id": "weekly-religious",
   "metadata": {},
   "source": [
    "## 1) Establish Stock Universe of tickers\n",
    "## 2) Fetch and Store data\n",
    "## 3) Screen"
   ]
  },
  {
   "cell_type": "code",
   "execution_count": 1,
   "id": "comfortable-uncertainty",
   "metadata": {},
   "outputs": [
    {
     "data": {
      "text/plain": [
       "'\\n\\nMake Three Microservices:\\n1) Data Fetcher/Scraper/Aggregator/Manager to store/retrieve/update\\n\\n2) Screener --> Strategy(Indicators)/Alerter Deployment Infrastructure\\n\\n3) Aggregate Dashboard GUI & Live Graphing Application\\n\\n'"
      ]
     },
     "execution_count": 1,
     "metadata": {},
     "output_type": "execute_result"
    }
   ],
   "source": [
    "\"\"\"\n",
    "\n",
    "Make Three Microservices:\n",
    "1) Data Fetcher/Scraper/Aggregator/Manager to store/retrieve/update\n",
    "\n",
    "2) Screener --> Strategy(Indicators)/Alerter Deployment Infrastructure\n",
    "\n",
    "3) Aggregate Dashboard GUI & Live Graphing Application\n",
    "\n",
    "\"\"\""
   ]
  },
  {
   "cell_type": "code",
   "execution_count": 3,
   "id": "starting-bookmark",
   "metadata": {},
   "outputs": [
    {
     "ename": "ModuleNotFoundError",
     "evalue": "No module named 'stockalyzer'",
     "output_type": "error",
     "traceback": [
      "\u001b[0;31m---------------------------------------------------------------------------\u001b[0m",
      "\u001b[0;31mModuleNotFoundError\u001b[0m                       Traceback (most recent call last)",
      "\u001b[0;32m<ipython-input-3-3c4dfc0ed1e6>\u001b[0m in \u001b[0;36m<module>\u001b[0;34m\u001b[0m\n\u001b[0;32m----> 1\u001b[0;31m \u001b[0;32mfrom\u001b[0m \u001b[0mstockalyzer\u001b[0m\u001b[0;34m.\u001b[0m\u001b[0mdata\u001b[0m\u001b[0;34m.\u001b[0m\u001b[0mdata_manager\u001b[0m \u001b[0;32mimport\u001b[0m \u001b[0;34m*\u001b[0m\u001b[0;34m\u001b[0m\u001b[0;34m\u001b[0m\u001b[0m\n\u001b[0m\u001b[1;32m      2\u001b[0m \u001b[0;32mfrom\u001b[0m \u001b[0mstockalyzer\u001b[0m\u001b[0;34m.\u001b[0m\u001b[0mdata\u001b[0m\u001b[0;34m.\u001b[0m\u001b[0mdata_fetcher\u001b[0m \u001b[0;32mimport\u001b[0m \u001b[0mTDDataFetcher\u001b[0m\u001b[0;34m,\u001b[0m \u001b[0mYFDataFetcher\u001b[0m\u001b[0;34m\u001b[0m\u001b[0;34m\u001b[0m\u001b[0m\n\u001b[1;32m      3\u001b[0m \u001b[0;32mfrom\u001b[0m \u001b[0mstockalyzer\u001b[0m\u001b[0;34m.\u001b[0m\u001b[0mstrategy\u001b[0m\u001b[0;34m.\u001b[0m\u001b[0mema_crossover\u001b[0m \u001b[0;32mimport\u001b[0m \u001b[0mEMACrossoverStrategy\u001b[0m\u001b[0;34m\u001b[0m\u001b[0;34m\u001b[0m\u001b[0m\n\u001b[1;32m      4\u001b[0m \u001b[0;32mfrom\u001b[0m \u001b[0mstockalyzer\u001b[0m\u001b[0;34m.\u001b[0m\u001b[0mstrategy\u001b[0m\u001b[0;34m.\u001b[0m\u001b[0mrsi_ema\u001b[0m \u001b[0;32mimport\u001b[0m \u001b[0mRSIEMAStrategy\u001b[0m\u001b[0;34m\u001b[0m\u001b[0;34m\u001b[0m\u001b[0m\n\u001b[1;32m      5\u001b[0m \u001b[0;32mfrom\u001b[0m \u001b[0mstockalyzer\u001b[0m\u001b[0;34m.\u001b[0m\u001b[0mmodel\u001b[0m\u001b[0;34m.\u001b[0m\u001b[0mstock\u001b[0m \u001b[0;32mimport\u001b[0m \u001b[0mStock\u001b[0m\u001b[0;34m\u001b[0m\u001b[0;34m\u001b[0m\u001b[0m\n",
      "\u001b[0;31mModuleNotFoundError\u001b[0m: No module named 'stockalyzer'"
     ]
    }
   ],
   "source": [
    "from stockalyzer.data.data_manager import *\n",
    "from stockalyzer.data.data_fetcher import TDDataFetcher, YFDataFetcher\n",
    "from stockalyzer.strategy.ema_crossover import EMACrossoverStrategy\n",
    "from stockalyzer.strategy.rsi_ema import RSIEMAStrategy\n",
    "from stockalyzer.model.stock import Stock\n",
    "\n",
    "from IPython.core.interactiveshell import InteractiveShell\n",
    "InteractiveShell.ast_node_interactivity = \"all\"\n",
    "%matplotlib inline\n",
    "pd.set_option('display.max_rows', None)\n",
    "pd.set_option('display.max_columns', None)\n",
    "pd.set_option('mode.chained_assignment', 'raise')"
   ]
  },
  {
   "cell_type": "code",
   "execution_count": null,
   "id": "editorial-familiar",
   "metadata": {},
   "outputs": [],
   "source": [
    "fetcher = YFDataFetcher(['AAPL','AMZN'])\n",
    "to_plot = debug = False\n",
    "# data = fetcher.get_hourly_price_history(datetime(2017, 6, 1))\n",
    "# fetcher = TDDataFetcher(tickers)\n",
    "sm = StockDataManager.load_from_data_fetcher(fetcher, datetime(2019, 6, 1), interval='1d',debug=debug)\n",
    "#     sm = StockDataManager.load_from_csv('data.csv', datetime(2019, 6, 1))\n",
    "display(sm._data.head())\n",
    "sm.run_strat(EMACrossoverStrategy, p1=20, p2=80, plot=to_plot)\n",
    "sm.run_strat(RSIEMAStrategy, p1=9, p2=(30,70), plot=to_plot)\n",
    "strat_perf = sm.get_results(to_print=True,ipython=True,graphs=to_plot)\n",
    "#     stocks = [Stock(t, strategy_perf=strat_perf.loc[t], fundamentals=fundamentals.loc[t], finviz=True) for t in sm.tickers]\n",
    "strat_perf"
   ]
  },
  {
   "cell_type": "code",
   "execution_count": null,
   "id": "frozen-catalyst",
   "metadata": {},
   "outputs": [],
   "source": [
    "sm._data['AAPL'].head()"
   ]
  },
  {
   "cell_type": "code",
   "execution_count": null,
   "id": "bridal-session",
   "metadata": {},
   "outputs": [],
   "source": [
    "# %%time\n",
    "\n",
    "def main(tickers=[], debug=False, to_plot=False, intervals='d'):\n",
    "    fetcher = TDDataFetcher(tickers)\n",
    "    fundamentals = fetcher.get_fundamentals()\n",
    "    sm = StockDataManager.load_from_data_fetcher(fetcher, datetime(2017, 6, 1), debug=debug, intervals=intervals)\n",
    "#     sm = StockDataManager.load_from_csv('data.csv', datetime(2019, 6, 1))\n",
    "    sm.run_strat(EMACrossoverStrategy, p1=20, p2=80, plot=to_plot)\n",
    "    sm.run_strat(RSIEMAStrategy, p1=9, p2=(30,70), plot=to_plot)\n",
    "    strat_perf = sm.get_results(to_print=True,ipython=True,graphs=to_plot)\n",
    "    stocks = [Stock(t, strategy_perf=strat_perf.loc[t], fundamentals=fundamentals.loc[t], finviz=True) for t in sm.tickers]\n",
    "    return stocks, sm\n",
    "# start = time.time()\n",
    "tickers = [\"NVDA\", \"AMD\"]\n",
    "stocks, sm = main(tickers=tickers, to_plot=True)\n",
    "# end = time.time()\n",
    "# print('{0:.4f} seconds'.format(end - start))"
   ]
  },
  {
   "cell_type": "code",
   "execution_count": null,
   "id": "anticipated-stocks",
   "metadata": {},
   "outputs": [],
   "source": [
    "\n",
    "\n",
    "\n",
    "# \"\"\"YAHOO FINANCE\"\"\"\n",
    "# import yfinance as yf\n",
    "# # YAHOO FINANCEDATA\n",
    "# tickers = ['AAPL','NVDA']\n",
    "# yf_tickers = [yf.Ticker(t) for t in tickers]\n",
    "# data = yf.download(tickers=tickers, start=datetime(2010, 6, 1), interval='1d', group_by = 'ticker')\n",
    "# data['AAPL']"
   ]
  },
  {
   "cell_type": "markdown",
   "id": "peripheral-ending",
   "metadata": {},
   "source": [
    "# TODO\n",
    "## Cibelli:\n",
    "- research successful strategy\n",
    "## Me:\n",
    "- Yahoo Fin Split & Adj Close data\n",
    "- Hourly data\n",
    "- Test capacity of algo to see how many tickers can run in time period (ideal 30 - 60 mins)\n",
    "- Perf:\n",
    "        - Time per trade\n",
    "        - "
   ]
  },
  {
   "cell_type": "markdown",
   "id": "fluid-short",
   "metadata": {},
   "source": [
    "# TODO:\n",
    "### - optstrategy --> more params, grid search\n",
    "### Fix load_from_csv start_time param\n",
    "## Data:\n",
    "- Split & Dividend Data\n",
    "\n",
    "# NEXT:\n",
    "### - Screener Infrastructure / Stock Universe\n",
    "\n",
    "# AI/ML:\n",
    "### - create model to aggregate all info for a given stock, such as fundamentals, strategy performance, news...\n",
    "### - create NN using ^features^ "
   ]
  },
  {
   "cell_type": "code",
   "execution_count": null,
   "id": "dental-jenny",
   "metadata": {},
   "outputs": [],
   "source": [
    "def get_perf(results: List[List[bt.cerebro.OptReturn]])->pd.DataFrame:\n",
    "    stats = []\n",
    "    for i in results:\n",
    "        for j in i:\n",
    "            stats.append(\n",
    "                {'strategy': f'SMA_Cross_{j.params.fast}_{j.params.slow}',\n",
    "                 'sharpe_ratio': j.analyzers.sharperatio.get_analysis()['sharperatio'],\n",
    "                 'return': '{0:.2f}%'.format(list(j.analyzers.timereturn.get_analysis().values())[0] * 100),\n",
    "                 'buy_and_hold': '{0:.2f}%'.format(list(j.analyzers.buyandhold.get_analysis().values())[0] * 100),\n",
    "                 'vwr': j.analyzers.vwr.get_analysis()['vwr'],\n",
    "                }\n",
    "            )\n",
    "    df = pd.DataFrame(stats)\n",
    "    df.sort_values(by='sharpe_ratio', ascending=False, inplace=True)\n",
    "    df.set_index('strategy', inplace=True)\n",
    "    return df\n",
    "\n",
    "def grid_search(data_feed: bt.feeds.PandasData, fast: List[int], slow: List[int])->List[List[bt.cerebro.OptReturn]]:\n",
    "    cerebro = bt.Cerebro()\n",
    "    cerebro.optstrategy(EMACrossoverStrategy, fast=fast, slow=slow)\n",
    "    cerebro.adddata(data_feed)\n",
    "\n",
    "    cerebro.broker.setcash(10000.0)\n",
    "    cerebro.broker.setcommission(commission=0.0004)  # Binance Swap taker fee\n",
    "\n",
    "    cerebro.addsizer(bt.sizers.FixedSize, stake=1)\n",
    "\n",
    "    # Add analyzers\n",
    "    cerebro.addanalyzer(bt.analyzers.SharpeRatio, timeframe=bt.TimeFrame.Days, factor=365)\n",
    "    cerebro.addanalyzer(bt.analyzers.VWR, timeframe=bt.TimeFrame.Days, tann=365)\n",
    "    cerebro.addanalyzer(bt.analyzers.TimeReturn, timeframe=bt.TimeFrame.NoTimeFrame)\n",
    "    cerebro.addanalyzer(bt.analyzers.TimeReturn, timeframe=bt.TimeFrame.NoTimeFrame, data=data_feed, _name='buyandhold')\n",
    "\n",
    "    return cerebro.run()\n",
    "\n",
    "# data_feed = bt.feeds.PandasData(dataname=sm._data.loc['PYPL'], timeframe=bt.TimeFrame.Days, openinterest=None)\n",
    "# results = grid_search(data_feed, fast=[32, 64], slow=[256, 512])"
   ]
  },
  {
   "cell_type": "code",
   "execution_count": null,
   "id": "lyric-artist",
   "metadata": {},
   "outputs": [],
   "source": [
    "# # General STOCK SCREENER:\n",
    "# output_file = \"screener_results.csv\"\n",
    "# result = subprocess.run([sys.executable, \"finviz_screener.py\", \"--table=Valuation\",f\"--output_name={output_file.split('.')[0]}\", \"--save=True\"], capture_output=True, text=True)\n",
    "# pd.read_csv(output_file)"
   ]
  },
  {
   "cell_type": "code",
   "execution_count": null,
   "id": "agreed-christian",
   "metadata": {},
   "outputs": [],
   "source": [
    "import yfinance as yf\n",
    "tickers = ['AAPL','MSFT','AMZN','GOOG']\n",
    "\n",
    "for t in tickers:\n",
    "    data = yf.Ticker(\"AAPL\")\n",
    "    aapl.history(period='max')"
   ]
  },
  {
   "cell_type": "code",
   "execution_count": null,
   "id": "resistant-guitar",
   "metadata": {},
   "outputs": [],
   "source": [
    "portfolio.splits"
   ]
  },
  {
   "cell_type": "code",
   "execution_count": null,
   "id": "upset-reggae",
   "metadata": {},
   "outputs": [],
   "source": [
    "aapl.actions"
   ]
  },
  {
   "cell_type": "code",
   "execution_count": null,
   "id": "mathematical-float",
   "metadata": {},
   "outputs": [],
   "source": [
    "aapl.info"
   ]
  },
  {
   "cell_type": "code",
   "execution_count": null,
   "id": "presidential-manual",
   "metadata": {},
   "outputs": [],
   "source": []
  }
 ],
 "metadata": {
  "kernelspec": {
   "display_name": "Python 3",
   "language": "python",
   "name": "python3"
  },
  "language_info": {
   "codemirror_mode": {
    "name": "ipython",
    "version": 3
   },
   "file_extension": ".py",
   "mimetype": "text/x-python",
   "name": "python",
   "nbconvert_exporter": "python",
   "pygments_lexer": "ipython3",
   "version": "3.9.1"
  }
 },
 "nbformat": 4,
 "nbformat_minor": 5
}
